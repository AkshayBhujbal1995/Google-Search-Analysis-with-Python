{
 "cells": [
  {
   "cell_type": "markdown",
   "id": "32a441e5-b09b-4500-be48-4baaa0c38a5e",
   "metadata": {},
   "source": [
    "# Google Search Analysis with Python"
   ]
  },
  {
   "cell_type": "markdown",
   "id": "672a70e8-ae77-4bfa-89c6-7cc126fb7cd3",
   "metadata": {},
   "source": [
    "we will be going through the approach to the analysis of google search in the python programming language in this. Google does not share the exact number of searches, but it’s estimated that **229 million** searches per hour or **5.9 billion** searches per day are performed. That’s really a huge number! Let us do Google search analysis with the help of python based on search queries."
   ]
  },
  {
   "cell_type": "markdown",
   "id": "db6aa50c-c49f-4747-bb9f-eeacc5820839",
   "metadata": {},
   "source": [
    "**How to install Pytrends?**"
   ]
  },
  {
   "cell_type": "code",
   "execution_count": null,
   "id": "8ae75d23-577c-4cd5-b17d-35a6cd601e71",
   "metadata": {},
   "outputs": [],
   "source": [
    "!pip install pytrends # Skip if you already Install"
   ]
  },
  {
   "cell_type": "markdown",
   "id": "9ecc9f25-cbb0-45bb-9585-70c740d7dff9",
   "metadata": {},
   "source": [
    "**Importing the required python libraries.**"
   ]
  },
  {
   "cell_type": "code",
   "execution_count": 3,
   "id": "0aae7d8c-cfac-475f-a280-c9429d568566",
   "metadata": {},
   "outputs": [],
   "source": [
    "import pandas as pd # Create a dataframe"
   ]
  },
  {
   "cell_type": "code",
   "execution_count": 4,
   "id": "ffb0cce1-fcec-4158-833b-8c2397c9afe5",
   "metadata": {},
   "outputs": [],
   "source": [
    "import matplotlib.pyplot as plt # Visualize the data."
   ]
  },
  {
   "cell_type": "code",
   "execution_count": 5,
   "id": "98b944c0-1177-4587-9941-c23480d89d10",
   "metadata": {},
   "outputs": [],
   "source": [
    "import time # Time"
   ]
  },
  {
   "cell_type": "code",
   "execution_count": 6,
   "id": "01f4c045-2a47-4ee8-b49b-920cf294df02",
   "metadata": {},
   "outputs": [],
   "source": [
    "from pytrends.request import TrendReq # Connect to Google\n"
   ]
  },
  {
   "cell_type": "code",
   "execution_count": 7,
   "id": "f4149919-745d-4091-96ea-cce4b395bbec",
   "metadata": {},
   "outputs": [],
   "source": [
    "Trending_topics = TrendReq(hl='en-In', tz=330 ) # Indian English and Indian Time Zone"
   ]
  },
  {
   "cell_type": "markdown",
   "id": "e9751eb9-523c-4358-b82e-4dc6daae64f5",
   "metadata": {},
   "source": [
    "# Build Payload"
   ]
  },
  {
   "cell_type": "markdown",
   "id": "28c22aa1-78ee-4025-b7aa-b4fcc3f074d7",
   "metadata": {},
   "source": [
    "To search for any keyword, use **build_payload** method"
   ]
  },
  {
   "cell_type": "code",
   "execution_count": 8,
   "id": "55e114d0-d401-4f92-aec6-104fd0fdaf38",
   "metadata": {},
   "outputs": [],
   "source": [
    "data_list= [\"Data Analyst\"] # We are using KW as Data Analyst as this is a data analyst project\n",
    "Trending_topics.build_payload(data_list,cat=0,timeframe=\"today 12-m\")\n",
    "time.sleep(5) # Wait for 5 seconds"
   ]
  },
  {
   "cell_type": "markdown",
   "id": "ae2c0b58-3bf1-4645-ade1-8264cee5433e",
   "metadata": {},
   "source": [
    "# Interest Over Time"
   ]
  },
  {
   "cell_type": "markdown",
   "id": "2f080eb1-2264-4c6b-a137-c088e33ee5b1",
   "metadata": {},
   "source": [
    "To returns the historical, indexed data for specified keyword over time use **interest_over_time()** method"
   ]
  },
  {
   "cell_type": "code",
   "execution_count": 9,
   "id": "d90a206f-0e53-4690-b3bf-d724582621de",
   "metadata": {},
   "outputs": [
    {
     "name": "stdout",
     "output_type": "stream",
     "text": [
      "            Data Analyst  isPartial\n",
      "date                               \n",
      "2024-07-14           100      False\n",
      "2024-01-21            99      False\n",
      "2024-07-07            98      False\n",
      "2024-07-21            98      False\n",
      "2024-07-28            97      False\n",
      "2024-01-28            97      False\n",
      "2024-08-18            96      False\n",
      "2024-08-25            96      False\n",
      "2024-02-25            96      False\n",
      "2024-02-18            96      False\n"
     ]
    }
   ],
   "source": [
    "data = Trending_topics.interest_over_time()\n",
    "data = data.sort_values(by=\"Data Analyst\",ascending =False)\n",
    "data = data.head(10)\n",
    "print(data)"
   ]
  },
  {
   "cell_type": "markdown",
   "id": "0c19349f-df78-4294-923a-840372d4ae53",
   "metadata": {},
   "source": [
    "# Historical Hour Interest"
   ]
  },
  {
   "cell_type": "markdown",
   "id": "1c56ad28-ce9e-44e4-8226-ec232f4f00c7",
   "metadata": {},
   "source": [
    "To returns the historical, indexed data for specified keyword for various time period use **get_historical_interest()**  method"
   ]
  },
  {
   "cell_type": "code",
   "execution_count": 10,
   "id": "c68a51ad-5686-4ad0-8eeb-b2cb1dbc2c25",
   "metadata": {},
   "outputs": [
    {
     "name": "stdout",
     "output_type": "stream",
     "text": [
      "            Data Analyst  isPartial\n",
      "date                               \n",
      "2024-02-25           100      False\n",
      "2024-07-21            99      False\n",
      "2024-01-21            99      False\n",
      "2024-07-14            99      False\n",
      "2024-08-18            99      False\n",
      "2024-02-18            98      False\n",
      "2024-09-29            97      False\n",
      "2024-02-04            97      False\n",
      "2024-08-25            97      False\n",
      "2024-07-28            97      False\n"
     ]
    }
   ],
   "source": [
    "#or\n",
    "data_list = [\"Data Analyst\"]\n",
    "Trending_topics.build_payload(data_list,cat=0,timeframe=\"2024-01-01 2024-11-01\",geo =\"\",gprop=\"\")\n",
    "data = Trending_topics.interest_over_time()\n",
    "data = data.sort_values(by=\"Data Analyst\",ascending =False)\n",
    "data = data.head(10)\n",
    "print(data)\n"
   ]
  },
  {
   "cell_type": "code",
   "execution_count": 12,
   "id": "85f025ef-91fd-4111-9e0f-de0ef02a929e",
   "metadata": {},
   "outputs": [
    {
     "data": {
      "text/plain": [
       "(10, 2)"
      ]
     },
     "execution_count": 12,
     "metadata": {},
     "output_type": "execute_result"
    }
   ],
   "source": [
    "data.shape"
   ]
  },
  {
   "cell_type": "markdown",
   "id": "68a93506-479f-4198-85d5-f74a328a0205",
   "metadata": {},
   "source": [
    "# Interest By Region\n"
   ]
  },
  {
   "cell_type": "markdown",
   "id": "cb740484-4605-4a85-8abe-93e31cb465f4",
   "metadata": {},
   "source": [
    "To returns the performance of the keyword per region use **interest_by_region()** method\n"
   ]
  },
  {
   "cell_type": "code",
   "execution_count": 17,
   "id": "89f0a149-02a3-4096-818d-9ff05704f50d",
   "metadata": {},
   "outputs": [
    {
     "name": "stdout",
     "output_type": "stream",
     "text": [
      "                Data Analyst\n",
      "geoName                     \n",
      "Nigeria                  100\n",
      "India                     86\n",
      "Kenya                     77\n",
      "Singapore                 68\n",
      "South Africa              58\n",
      "United Kingdom            54\n",
      "Ghana                     51\n",
      "Canada                    51\n",
      "Sri Lanka                 46\n",
      "Ireland                   45\n"
     ]
    }
   ],
   "source": [
    "data =Trending_topics.interest_by_region()\n",
    "data = data.sort_values(by=\"Data Analyst\",ascending =False)\n",
    "data = data.head(10)\n",
    "print(data)"
   ]
  },
  {
   "cell_type": "code",
   "execution_count": null,
   "id": "a227b468-0828-4373-86cc-57ef91c4fc1b",
   "metadata": {},
   "outputs": [],
   "source": [
    "# 0 =  least search or not enough data\n",
    "# 100 =  most search "
   ]
  },
  {
   "cell_type": "markdown",
   "id": "b17ec303-ea2a-451a-8a05-c813f9b5f4c9",
   "metadata": {},
   "source": [
    "# Visualize the above data using a bar chart."
   ]
  },
  {
   "cell_type": "code",
   "execution_count": 18,
   "id": "6a6e4ea2-8097-498d-a4ca-52a137b1dee0",
   "metadata": {},
   "outputs": [
    {
     "data": {
      "image/png": "[encoded data removed]",
      "text/plain": [
       "<Figure size 1000x500 with 1 Axes>"
      ]
     },
     "metadata": {},
     "output_type": "display_data"
    }
   ],
   "source": [
    "data.reset_index().plot(x='geoName',y='Data Analyst',figsize=(10,5),kind=\"bar\")\n",
    "plt.show()"
   ]
  },
  {
   "cell_type": "markdown",
   "id": "f569e020-a938-4441-8caa-eb21c25b5f8b",
   "metadata": {},
   "source": [
    "# Top Charts"
   ]
  },
  {
   "cell_type": "markdown",
   "id": "f82a762e-4a14-4a1e-870d-6c037870102a",
   "metadata": {},
   "source": [
    "To get top trending searches yearly use **top_charts()** method"
   ]
  },
  {
   "cell_type": "code",
   "execution_count": 24,
   "id": "5a8d7c3a-aebe-4740-a099-ad9a41a89b86",
   "metadata": {},
   "outputs": [
    {
     "data": {
      "text/html": [
       "<div>\n",
       "<style scoped>\n",
       "    .dataframe tbody tr th:only-of-type {\n",
       "        vertical-align: middle;\n",
       "    }\n",
       "\n",
       "    .dataframe tbody tr th {\n",
       "        vertical-align: top;\n",
       "    }\n",
       "\n",
       "    .dataframe thead th {\n",
       "        text-align: right;\n",
       "    }\n",
       "</style>\n",
       "<table border=\"1\" class=\"dataframe\">\n",
       "  <thead>\n",
       "    <tr style=\"text-align: right;\">\n",
       "      <th></th>\n",
       "      <th>title</th>\n",
       "      <th>exploreQuery</th>\n",
       "    </tr>\n",
       "  </thead>\n",
       "  <tbody>\n",
       "    <tr>\n",
       "      <th>0</th>\n",
       "      <td>War in Israel and Gaza</td>\n",
       "      <td>Israel Gaza</td>\n",
       "    </tr>\n",
       "    <tr>\n",
       "      <th>1</th>\n",
       "      <td>Titanic submarine</td>\n",
       "      <td></td>\n",
       "    </tr>\n",
       "    <tr>\n",
       "      <th>2</th>\n",
       "      <td>Turkey earthquake</td>\n",
       "      <td></td>\n",
       "    </tr>\n",
       "    <tr>\n",
       "      <th>3</th>\n",
       "      <td>Hurricane Hilary</td>\n",
       "      <td></td>\n",
       "    </tr>\n",
       "    <tr>\n",
       "      <th>4</th>\n",
       "      <td>Hurricane Idalia</td>\n",
       "      <td></td>\n",
       "    </tr>\n",
       "    <tr>\n",
       "      <th>5</th>\n",
       "      <td>Hurricane Lee</td>\n",
       "      <td></td>\n",
       "    </tr>\n",
       "    <tr>\n",
       "      <th>6</th>\n",
       "      <td>Maine shooting</td>\n",
       "      <td></td>\n",
       "    </tr>\n",
       "    <tr>\n",
       "      <th>7</th>\n",
       "      <td>Nashville shooting</td>\n",
       "      <td></td>\n",
       "    </tr>\n",
       "    <tr>\n",
       "      <th>8</th>\n",
       "      <td>Chandrayaan-3</td>\n",
       "      <td>Chandrayaan 3</td>\n",
       "    </tr>\n",
       "    <tr>\n",
       "      <th>9</th>\n",
       "      <td>War in Sudan</td>\n",
       "      <td>Sudan</td>\n",
       "    </tr>\n",
       "  </tbody>\n",
       "</table>\n",
       "</div>"
      ],
      "text/plain": [
       "                    title   exploreQuery\n",
       "0  War in Israel and Gaza    Israel Gaza\n",
       "1       Titanic submarine               \n",
       "2       Turkey earthquake               \n",
       "3        Hurricane Hilary               \n",
       "4        Hurricane Idalia               \n",
       "5           Hurricane Lee               \n",
       "6          Maine shooting               \n",
       "7      Nashville shooting               \n",
       "8           Chandrayaan-3  Chandrayaan 3\n",
       "9            War in Sudan          Sudan"
      ]
     },
     "execution_count": 24,
     "metadata": {},
     "output_type": "execute_result"
    }
   ],
   "source": [
    "df = Trending_topics.top_charts(2023,hl='en-IN',tz=330,geo='GLOBAL')\n",
    "df.head(20) # We can not perform this method for current year, hence used 2023"
   ]
  },
  {
   "cell_type": "markdown",
   "id": "6c0747d4-40ed-466a-b22f-16a93bb71940",
   "metadata": {},
   "source": [
    "# Keyword Suggestions"
   ]
  },
  {
   "cell_type": "markdown",
   "id": "f2dc2207-3518-40ea-85f7-12c62d7f1a99",
   "metadata": {},
   "source": [
    "To explore what the world is searching for use **suggestions()** method"
   ]
  },
  {
   "cell_type": "code",
   "execution_count": 28,
   "id": "91e7623c-072a-417f-999b-12efd5b0c59c",
   "metadata": {},
   "outputs": [
    {
     "data": {
      "text/html": [
       "<div>\n",
       "<style scoped>\n",
       "    .dataframe tbody tr th:only-of-type {\n",
       "        vertical-align: middle;\n",
       "    }\n",
       "\n",
       "    .dataframe tbody tr th {\n",
       "        vertical-align: top;\n",
       "    }\n",
       "\n",
       "    .dataframe thead th {\n",
       "        text-align: right;\n",
       "    }\n",
       "</style>\n",
       "<table border=\"1\" class=\"dataframe\">\n",
       "  <thead>\n",
       "    <tr style=\"text-align: right;\">\n",
       "      <th></th>\n",
       "      <th>title</th>\n",
       "      <th>type</th>\n",
       "    </tr>\n",
       "  </thead>\n",
       "  <tbody>\n",
       "    <tr>\n",
       "      <th>0</th>\n",
       "      <td>data analyst</td>\n",
       "      <td>Topic</td>\n",
       "    </tr>\n",
       "    <tr>\n",
       "      <th>1</th>\n",
       "      <td>Lovelight Farms</td>\n",
       "      <td>Book by B.K. Borison</td>\n",
       "    </tr>\n",
       "    <tr>\n",
       "      <th>2</th>\n",
       "      <td>Leah Libresco</td>\n",
       "      <td>Author</td>\n",
       "    </tr>\n",
       "    <tr>\n",
       "      <th>3</th>\n",
       "      <td>Staff Analyst Trainee: Passbooks Study Guide</td>\n",
       "      <td>Book</td>\n",
       "    </tr>\n",
       "    <tr>\n",
       "      <th>4</th>\n",
       "      <td>Data Analyst</td>\n",
       "      <td>Topic</td>\n",
       "    </tr>\n",
       "  </tbody>\n",
       "</table>\n",
       "</div>"
      ],
      "text/plain": [
       "                                          title                  type\n",
       "0                                  data analyst                 Topic\n",
       "1                               Lovelight Farms  Book by B.K. Borison\n",
       "2                                 Leah Libresco                Author\n",
       "3  Staff Analyst Trainee: Passbooks Study Guide                  Book\n",
       "4                                  Data Analyst                 Topic"
      ]
     },
     "execution_count": 28,
     "metadata": {},
     "output_type": "execute_result"
    }
   ],
   "source": [
    "keywords = Trending_topics.suggestions(keyword='Data Analyst')\n",
    "df1 = pd.DataFrame(keywords)\n",
    "df1.drop(columns = 'mid')"
   ]
  },
  {
   "cell_type": "markdown",
   "id": "84d6782c-a872-495b-8bb0-4cbb75478d0c",
   "metadata": {},
   "source": [
    " # Conclusion"
   ]
  },
  {
   "cell_type": "markdown",
   "id": "966569d2-2dd0-4515-a165-40e9d87b3256",
   "metadata": {},
   "source": [
    "In this project, we used Pytrends with Python to analyze search trends for the keyword **“Data Analyst.”** This analysis provided insights into how the interest in “Data Analyst” has evolved over time and which regions show the highest interest.\n",
    "\n",
    "Key outcomes:\n",
    "1. **Interest Over Time**: The analysis showed peak periods and trends, indicating when interest in the “Data Analyst” role has been highest.\n",
    "2. **Interest by Region**: Using regional data, we identified the top countries where “Data Analyst” is most searched, highlighting demand in different regions.\n",
    "\n",
    "This project demonstrates how Google search data can be used to analyze and understand global interest in specific job roles like “Data Analyst.”"
   ]
  },
  {
   "cell_type": "code",
   "execution_count": 30,
   "id": "1c6baaf1-7666-4ec8-b473-70cfc3388fcc",
   "metadata": {},
   "outputs": [
    {
     "name": "stdout",
     "output_type": "stream",
     "text": [
      "Requirement already satisfied: nbconvert in c:\\users\\aksha\\appdata\\local\\anaconda3\\lib\\site-packages (7.10.0)\n",
      "Requirement already satisfied: beautifulsoup4 in c:\\users\\aksha\\appdata\\local\\anaconda3\\lib\\site-packages (from nbconvert) (4.12.2)\n",
      "Requirement already satisfied: bleach!=5.0.0 in c:\\users\\aksha\\appdata\\local\\anaconda3\\lib\\site-packages (from nbconvert) (4.1.0)\n",
      "Requirement already satisfied: defusedxml in c:\\users\\aksha\\appdata\\local\\anaconda3\\lib\\site-packages (from nbconvert) (0.7.1)\n",
      "Requirement already satisfied: jinja2>=3.0 in c:\\users\\aksha\\appdata\\local\\anaconda3\\lib\\site-packages (from nbconvert) (3.1.3)\n",
      "Requirement already satisfied: jupyter-core>=4.7 in c:\\users\\aksha\\appdata\\local\\anaconda3\\lib\\site-packages (from nbconvert) (5.5.0)\n",
      "Requirement already satisfied: jupyterlab-pygments in c:\\users\\aksha\\appdata\\local\\anaconda3\\lib\\site-packages (from nbconvert) (0.1.2)\n",
      "Requirement already satisfied: markupsafe>=2.0 in c:\\users\\aksha\\appdata\\local\\anaconda3\\lib\\site-packages (from nbconvert) (2.1.3)\n",
      "Requirement already satisfied: mistune<4,>=2.0.3 in c:\\users\\aksha\\appdata\\local\\anaconda3\\lib\\site-packages (from nbconvert) (2.0.4)\n",
      "Requirement already satisfied: nbclient>=0.5.0 in c:\\users\\aksha\\appdata\\local\\anaconda3\\lib\\site-packages (from nbconvert) (0.8.0)\n",
      "Requirement already satisfied: nbformat>=5.7 in c:\\users\\aksha\\appdata\\local\\anaconda3\\lib\\site-packages (from nbconvert) (5.9.2)\n",
      "Requirement already satisfied: packaging in c:\\users\\aksha\\appdata\\local\\anaconda3\\lib\\site-packages (from nbconvert) (23.1)\n",
      "Requirement already satisfied: pandocfilters>=1.4.1 in c:\\users\\aksha\\appdata\\local\\anaconda3\\lib\\site-packages (from nbconvert) (1.5.0)\n",
      "Requirement already satisfied: pygments>=2.4.1 in c:\\users\\aksha\\appdata\\local\\anaconda3\\lib\\site-packages (from nbconvert) (2.15.1)\n",
      "Requirement already satisfied: tinycss2 in c:\\users\\aksha\\appdata\\local\\anaconda3\\lib\\site-packages (from nbconvert) (1.2.1)\n",
      "Requirement already satisfied: traitlets>=5.1 in c:\\users\\aksha\\appdata\\local\\anaconda3\\lib\\site-packages (from nbconvert) (5.7.1)\n",
      "Requirement already satisfied: six>=1.9.0 in c:\\users\\aksha\\appdata\\local\\anaconda3\\lib\\site-packages (from bleach!=5.0.0->nbconvert) (1.16.0)\n",
      "Requirement already satisfied: webencodings in c:\\users\\aksha\\appdata\\local\\anaconda3\\lib\\site-packages (from bleach!=5.0.0->nbconvert) (0.5.1)\n",
      "Requirement already satisfied: platformdirs>=2.5 in c:\\users\\aksha\\appdata\\local\\anaconda3\\lib\\site-packages (from jupyter-core>=4.7->nbconvert) (3.10.0)\n",
      "Requirement already satisfied: pywin32>=300 in c:\\users\\aksha\\appdata\\local\\anaconda3\\lib\\site-packages (from jupyter-core>=4.7->nbconvert) (305.1)\n",
      "Requirement already satisfied: jupyter-client>=6.1.12 in c:\\users\\aksha\\appdata\\local\\anaconda3\\lib\\site-packages (from nbclient>=0.5.0->nbconvert) (8.6.0)\n",
      "Requirement already satisfied: fastjsonschema in c:\\users\\aksha\\appdata\\local\\anaconda3\\lib\\site-packages (from nbformat>=5.7->nbconvert) (2.16.2)\n",
      "Requirement already satisfied: jsonschema>=2.6 in c:\\users\\aksha\\appdata\\local\\anaconda3\\lib\\site-packages (from nbformat>=5.7->nbconvert) (4.19.2)\n",
      "Requirement already satisfied: soupsieve>1.2 in c:\\users\\aksha\\appdata\\local\\anaconda3\\lib\\site-packages (from beautifulsoup4->nbconvert) (2.5)\n",
      "Requirement already satisfied: attrs>=22.2.0 in c:\\users\\aksha\\appdata\\local\\anaconda3\\lib\\site-packages (from jsonschema>=2.6->nbformat>=5.7->nbconvert) (23.1.0)\n",
      "Requirement already satisfied: jsonschema-specifications>=2023.03.6 in c:\\users\\aksha\\appdata\\local\\anaconda3\\lib\\site-packages (from jsonschema>=2.6->nbformat>=5.7->nbconvert) (2023.7.1)\n",
      "Requirement already satisfied: referencing>=0.28.4 in c:\\users\\aksha\\appdata\\local\\anaconda3\\lib\\site-packages (from jsonschema>=2.6->nbformat>=5.7->nbconvert) (0.30.2)\n",
      "Requirement already satisfied: rpds-py>=0.7.1 in c:\\users\\aksha\\appdata\\local\\anaconda3\\lib\\site-packages (from jsonschema>=2.6->nbformat>=5.7->nbconvert) (0.10.6)\n",
      "Requirement already satisfied: python-dateutil>=2.8.2 in c:\\users\\aksha\\appdata\\local\\anaconda3\\lib\\site-packages (from jupyter-client>=6.1.12->nbclient>=0.5.0->nbconvert) (2.8.2)\n",
      "Requirement already satisfied: pyzmq>=23.0 in c:\\users\\aksha\\appdata\\local\\anaconda3\\lib\\site-packages (from jupyter-client>=6.1.12->nbclient>=0.5.0->nbconvert) (25.1.2)\n",
      "Requirement already satisfied: tornado>=6.2 in c:\\users\\aksha\\appdata\\local\\anaconda3\\lib\\site-packages (from jupyter-client>=6.1.12->nbclient>=0.5.0->nbconvert) (6.3.3)\n",
      "Note: you may need to restart the kernel to use updated packages.\n"
     ]
    }
   ],
   "source": [
    "pip install nbconvert\n"
   ]
  },
  {
   "cell_type": "code",
   "execution_count": null,
   "id": "5092d261-abef-4cb3-8e27-ec7d8e36ad47",
   "metadata": {},
   "outputs": [],
   "source": []
  }
 ],
 "metadata": {
  "kernelspec": {
   "display_name": "Python 3 (ipykernel)",
   "language": "python",
   "name": "python3"
  },
  "language_info": {
   "codemirror_mode": {
    "name": "ipython",
    "version": 3
   },
   "file_extension": ".py",
   "mimetype": "text/x-python",
   "name": "python",
   "nbconvert_exporter": "python",
   "pygments_lexer": "ipython3",
   "version": "3.11.7"
  }
 },
 "nbformat": 4,
 "nbformat_minor": 5
}
